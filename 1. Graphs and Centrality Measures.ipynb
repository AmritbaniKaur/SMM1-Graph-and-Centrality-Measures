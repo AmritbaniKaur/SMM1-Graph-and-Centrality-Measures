{
 "cells": [
  {
   "cell_type": "markdown",
   "metadata": {
    "collapsed": true
   },
   "source": [
    "## CIS 600, Spring 2018\n",
    "## Assignment 1: Graphs & Network Analysis\n",
    "### Due: Friday, February 9\n",
    "### Amritbani Sondhi, SUID: 903888517"
   ]
  },
  {
   "cell_type": "markdown",
   "metadata": {},
   "source": [
    "--------------------------------------------------------------------------------------------------------------------------------"
   ]
  },
  {
   "cell_type": "markdown",
   "metadata": {},
   "source": [
    "### • Implement degree, closeness, betweenness and eigenvector centrality in python. Your functions\n",
    "### should take as input an adjacency matrix and return a list or vector of centrality values.\n",
    "### You may focus on just undirected graphs. Do not simply invoke NetworkX functions.\n",
    "\n",
    "#### Solution: "
   ]
  },
  {
   "cell_type": "markdown",
   "metadata": {},
   "source": [
    "#### Importing Libraries:"
   ]
  },
  {
   "cell_type": "code",
   "execution_count": 1,
   "metadata": {
    "collapsed": true
   },
   "outputs": [],
   "source": [
    "import numpy as np\n",
    "import matplotlib.pyplot as plt"
   ]
  },
  {
   "cell_type": "markdown",
   "metadata": {},
   "source": [
    "#### Creating a Graph:"
   ]
  },
  {
   "cell_type": "code",
   "execution_count": 2,
   "metadata": {},
   "outputs": [
    {
     "name": "stdout",
     "output_type": "stream",
     "text": [
      "Graph of Size 9 :\n",
      "[[0 1 1 1 0 0 0 0 0]\n",
      " [1 0 1 0 0 0 0 0 0]\n",
      " [1 1 0 1 0 0 0 0 0]\n",
      " [1 0 1 0 1 1 0 0 0]\n",
      " [0 0 0 1 0 1 1 1 0]\n",
      " [0 0 0 1 1 0 1 1 0]\n",
      " [0 0 0 0 1 1 0 1 1]\n",
      " [0 0 0 0 1 1 1 0 0]\n",
      " [0 0 0 0 0 0 1 0 0]]\n"
     ]
    }
   ],
   "source": [
    "A = np.array([[0,1,1,1,0,0,0,0,0],[1,0,1,0,0,0,0,0,0],[1,1,0,1,0,0,0,0,0],[1,0,1,0,1,1,0,0,0],[0,0,0,1,0,1,1,1,0],\n",
    "              [0,0,0,1,1,0,1,1,0],[0,0,0,0,1,1,0,1,1],[0,0,0,0,1,1,1,0,0],[0,0,0,0,0,0,1,0,0]])\n",
    "mat_size = len(A)\n",
    "print(\"Graph of Size\", mat_size,\":\")\n",
    "print(A)"
   ]
  },
  {
   "cell_type": "markdown",
   "metadata": {},
   "source": [
    "--------------------------------------------------------------------------------------------------------------------------------"
   ]
  },
  {
   "cell_type": "markdown",
   "metadata": {},
   "source": [
    "### Degree Centrality:"
   ]
  },
  {
   "cell_type": "code",
   "execution_count": 3,
   "metadata": {
    "collapsed": true
   },
   "outputs": [],
   "source": [
    "# creating a copy of Graph A:\n",
    "temp = A.copy()\n",
    "\n",
    "# to perform Summation of any Row:\n",
    "def sum_of_row(graph, a):\n",
    "    degSum = 0\n",
    "    # Summing all columns in the row\n",
    "    for column in range(mat_size):\n",
    "        degSum += graph[a,column]\n",
    "    return degSum\n",
    "        \n",
    "# Calculate Degree Centrality:\n",
    "def degreeCentrality(a):\n",
    "    degSum = sum_of_row(temp, a)\n",
    "    # dividing the sum of the degree with the (n-1) nodes\n",
    "    result = (degSum/(mat_size-1))\n",
    "    \n",
    "    # We return a single number.\n",
    "    return result"
   ]
  },
  {
   "cell_type": "code",
   "execution_count": 4,
   "metadata": {},
   "outputs": [
    {
     "name": "stdout",
     "output_type": "stream",
     "text": [
      "Degree Centralities of the Graph: \n",
      " [0.375, 0.25, 0.375, 0.5, 0.5, 0.5, 0.5, 0.375, 0.125]\n"
     ]
    }
   ],
   "source": [
    "# Calculate for all Nodes\n",
    "degreeCentralityValues = [degreeCentrality(a) for a in range(mat_size)]\n",
    "print(\"Degree Centralities of the Graph: \\n\", degreeCentralityValues)"
   ]
  },
  {
   "cell_type": "markdown",
   "metadata": {},
   "source": [
    "--------------------------------------------------------------------------------------------------------------------------------"
   ]
  },
  {
   "cell_type": "markdown",
   "metadata": {},
   "source": [
    "### Betweenness Centrality: "
   ]
  },
  {
   "cell_type": "markdown",
   "metadata": {},
   "source": [
    "Initializing Graphs and Matrices:"
   ]
  },
  {
   "cell_type": "code",
   "execution_count": 5,
   "metadata": {
    "collapsed": true
   },
   "outputs": [],
   "source": [
    "# Using NetworkX only to calculate the shortest path:\n",
    "import networkx as nx\n",
    "\n",
    "# Converting it to a NetworkX Graph:\n",
    "temp_Graph = nx.from_numpy_matrix(temp)"
   ]
  },
  {
   "cell_type": "code",
   "execution_count": 6,
   "metadata": {},
   "outputs": [
    {
     "data": {
      "text/plain": [
       "array([[ 0.,  0.,  0.,  0.,  0.,  0.,  0.,  0.,  0.],\n",
       "       [ 0.,  0.,  0.,  0.,  0.,  0.,  0.,  0.,  0.],\n",
       "       [ 0.,  0.,  0.,  0.,  0.,  0.,  0.,  0.,  0.],\n",
       "       [ 0.,  0.,  0.,  0.,  0.,  0.,  0.,  0.,  0.],\n",
       "       [ 0.,  0.,  0.,  0.,  0.,  0.,  0.,  0.,  0.],\n",
       "       [ 0.,  0.,  0.,  0.,  0.,  0.,  0.,  0.,  0.],\n",
       "       [ 0.,  0.,  0.,  0.,  0.,  0.,  0.,  0.,  0.],\n",
       "       [ 0.,  0.,  0.,  0.,  0.,  0.,  0.,  0.,  0.],\n",
       "       [ 0.,  0.,  0.,  0.,  0.,  0.,  0.,  0.,  0.]])"
      ]
     },
     "execution_count": 6,
     "metadata": {},
     "output_type": "execute_result"
    }
   ],
   "source": [
    "# Creating a blank Step Matrix \n",
    "step_mat = np.zeros((mat_size,mat_size))\n",
    "step_mat"
   ]
  },
  {
   "cell_type": "markdown",
   "metadata": {},
   "source": [
    "Calculate Step Matrix for A[pow_size]:"
   ]
  },
  {
   "cell_type": "code",
   "execution_count": 7,
   "metadata": {},
   "outputs": [
    {
     "name": "stdout",
     "output_type": "stream",
     "text": [
      "[[ 0.  1.  1.  1.  2.  2.  3.  3.  4.]\n",
      " [ 1.  0.  1.  2.  3.  3.  4.  4.  5.]\n",
      " [ 1.  1.  0.  1.  2.  2.  3.  3.  4.]\n",
      " [ 1.  2.  1.  0.  1.  1.  2.  2.  3.]\n",
      " [ 2.  3.  2.  1.  0.  1.  1.  1.  2.]\n",
      " [ 2.  3.  2.  1.  1.  0.  1.  1.  2.]\n",
      " [ 3.  4.  3.  2.  1.  1.  0.  1.  1.]\n",
      " [ 3.  4.  3.  2.  1.  1.  1.  0.  2.]\n",
      " [ 4.  5.  4.  3.  2.  2.  1.  2.  0.]]\n"
     ]
    }
   ],
   "source": [
    "# Calculate the steps in between nodes and save it in the step matrix:\n",
    "def step_betn_nodes(step_mat):\n",
    "    for from_node in range(mat_size):\n",
    "        for to_node in range(mat_size):\n",
    "            lengthPath = nx.dijkstra_path_length(temp_Graph, from_node, to_node)\n",
    "            #print(\"Path Length: \",lengthPath)\n",
    "            step_mat[from_node][to_node] = lengthPath\n",
    "            step_mat[to_node][from_node] = lengthPath\n",
    "\n",
    "step_betn_nodes(step_mat)\n",
    "print(step_mat)"
   ]
  },
  {
   "cell_type": "markdown",
   "metadata": {},
   "source": [
    "Get the maximum value in the step_matrix:"
   ]
  },
  {
   "cell_type": "code",
   "execution_count": 8,
   "metadata": {
    "collapsed": true,
    "scrolled": true
   },
   "outputs": [],
   "source": [
    "pow_size = int(step_mat.max())+1"
   ]
  },
  {
   "cell_type": "markdown",
   "metadata": {},
   "source": [
    "__CLAIM:__ The maximum no. in the step matrix will be the A_powers iteration when the values (except in the diagonal) would be greater than zero everytime"
   ]
  },
  {
   "cell_type": "code",
   "execution_count": 9,
   "metadata": {
    "collapsed": true
   },
   "outputs": [],
   "source": [
    "# Get a list of all powers of A up through the fifth power.\n",
    "# We need to stop when all entries are positive\n",
    "#A_powers = [np.linalg.matrix_power(A,m) for m in [1,2,3,4,5]]\n",
    "A_powers = [np.linalg.matrix_power(A,m) for m in range(1,pow_size)]"
   ]
  },
  {
   "cell_type": "code",
   "execution_count": 10,
   "metadata": {},
   "outputs": [
    {
     "data": {
      "text/plain": [
       "[array([[0, 1, 1, 1, 0, 0, 0, 0, 0],\n",
       "        [1, 0, 1, 0, 0, 0, 0, 0, 0],\n",
       "        [1, 1, 0, 1, 0, 0, 0, 0, 0],\n",
       "        [1, 0, 1, 0, 1, 1, 0, 0, 0],\n",
       "        [0, 0, 0, 1, 0, 1, 1, 1, 0],\n",
       "        [0, 0, 0, 1, 1, 0, 1, 1, 0],\n",
       "        [0, 0, 0, 0, 1, 1, 0, 1, 1],\n",
       "        [0, 0, 0, 0, 1, 1, 1, 0, 0],\n",
       "        [0, 0, 0, 0, 0, 0, 1, 0, 0]]), array([[3, 1, 2, 1, 1, 1, 0, 0, 0],\n",
       "        [1, 2, 1, 2, 0, 0, 0, 0, 0],\n",
       "        [2, 1, 3, 1, 1, 1, 0, 0, 0],\n",
       "        [1, 2, 1, 4, 1, 1, 2, 2, 0],\n",
       "        [1, 0, 1, 1, 4, 3, 2, 2, 1],\n",
       "        [1, 0, 1, 1, 3, 4, 2, 2, 1],\n",
       "        [0, 0, 0, 2, 2, 2, 4, 2, 0],\n",
       "        [0, 0, 0, 2, 2, 2, 2, 3, 1],\n",
       "        [0, 0, 0, 0, 1, 1, 0, 1, 1]]), array([[ 4,  5,  5,  7,  2,  2,  2,  2,  0],\n",
       "        [ 5,  2,  5,  2,  2,  2,  0,  0,  0],\n",
       "        [ 5,  5,  4,  7,  2,  2,  2,  2,  0],\n",
       "        [ 7,  2,  7,  4,  9,  9,  4,  4,  2],\n",
       "        [ 2,  2,  2,  9,  8,  9, 10,  9,  2],\n",
       "        [ 2,  2,  2,  9,  9,  8, 10,  9,  2],\n",
       "        [ 2,  0,  2,  4, 10, 10,  6,  8,  4],\n",
       "        [ 2,  0,  2,  4,  9,  9,  8,  6,  2],\n",
       "        [ 0,  0,  0,  2,  2,  2,  4,  2,  0]]), array([[17,  9, 16, 13, 13, 13,  6,  6,  2],\n",
       "        [ 9, 10,  9, 14,  4,  4,  4,  4,  0],\n",
       "        [16,  9, 17, 13, 13, 13,  6,  6,  2],\n",
       "        [13, 14, 13, 32, 21, 21, 24, 22,  4],\n",
       "        [13,  4, 13, 21, 37, 36, 28, 27, 10],\n",
       "        [13,  4, 13, 21, 36, 37, 28, 27, 10],\n",
       "        [ 6,  4,  6, 24, 28, 28, 32, 26,  6],\n",
       "        [ 6,  4,  6, 22, 27, 27, 26, 26,  8],\n",
       "        [ 2,  0,  2,  4, 10, 10,  6,  8,  4]]), array([[ 38,  33,  39,  59,  38,  38,  34,  32,   6],\n",
       "        [ 33,  18,  33,  26,  26,  26,  12,  12,   4],\n",
       "        [ 39,  33,  38,  59,  38,  38,  34,  32,   6],\n",
       "        [ 59,  26,  59,  68,  99,  99,  68,  66,  24],\n",
       "        [ 38,  26,  38,  99, 112, 113, 110, 101,  28],\n",
       "        [ 38,  26,  38,  99, 113, 112, 110, 101,  28],\n",
       "        [ 34,  12,  34,  68, 110, 110,  88,  88,  32],\n",
       "        [ 32,  12,  32,  66, 101, 101,  88,  80,  26],\n",
       "        [  6,   4,   6,  24,  28,  28,  32,  26,   6]])]"
      ]
     },
     "execution_count": 10,
     "metadata": {},
     "output_type": "execute_result"
    }
   ],
   "source": [
    "A_powers"
   ]
  },
  {
   "cell_type": "markdown",
   "metadata": {},
   "source": [
    "Compute the __sigma values__ for nodes i and j, __with no middle node__ considered:"
   ]
  },
  {
   "cell_type": "code",
   "execution_count": 11,
   "metadata": {},
   "outputs": [
    {
     "data": {
      "text/plain": [
       "array([[ 0.,  0.,  0.,  0.,  0.,  0.,  0.,  0.,  0.],\n",
       "       [ 0.,  0.,  0.,  0.,  0.,  0.,  0.,  0.,  0.],\n",
       "       [ 0.,  0.,  0.,  0.,  0.,  0.,  0.,  0.,  0.],\n",
       "       [ 0.,  0.,  0.,  0.,  0.,  0.,  0.,  0.,  0.],\n",
       "       [ 0.,  0.,  0.,  0.,  0.,  0.,  0.,  0.,  0.],\n",
       "       [ 0.,  0.,  0.,  0.,  0.,  0.,  0.,  0.,  0.],\n",
       "       [ 0.,  0.,  0.,  0.,  0.,  0.,  0.,  0.,  0.],\n",
       "       [ 0.,  0.,  0.,  0.,  0.,  0.,  0.,  0.,  0.],\n",
       "       [ 0.,  0.,  0.,  0.,  0.,  0.,  0.,  0.,  0.]])"
      ]
     },
     "execution_count": 11,
     "metadata": {},
     "output_type": "execute_result"
    }
   ],
   "source": [
    "# Define a matrix. Next, we will fill it up entry by entry:\n",
    "sigma = np.zeros((mat_size,mat_size))\n",
    "sigma"
   ]
  },
  {
   "cell_type": "markdown",
   "metadata": {},
   "source": [
    "__CLAIM:__ The length of a shortest path from i to j is the smallest m such that the i,j entry of A^m is nonzero. Therefore, the number of shortest paths from i to j is the i,j entry of A^m for this particular m.\n",
    "\n",
    "use a nested loop to build sigma. Also __keep track of the minimal lengths for each pair of nodes.__"
   ]
  },
  {
   "cell_type": "code",
   "execution_count": 12,
   "metadata": {},
   "outputs": [
    {
     "data": {
      "text/plain": [
       "array([[ 0.,  0.,  0.,  0.,  0.,  0.,  0.,  0.,  0.],\n",
       "       [ 0.,  0.,  0.,  0.,  0.,  0.,  0.,  0.,  0.],\n",
       "       [ 0.,  0.,  0.,  0.,  0.,  0.,  0.,  0.,  0.],\n",
       "       [ 0.,  0.,  0.,  0.,  0.,  0.,  0.,  0.,  0.],\n",
       "       [ 0.,  0.,  0.,  0.,  0.,  0.,  0.,  0.,  0.],\n",
       "       [ 0.,  0.,  0.,  0.,  0.,  0.,  0.,  0.,  0.],\n",
       "       [ 0.,  0.,  0.,  0.,  0.,  0.,  0.,  0.,  0.],\n",
       "       [ 0.,  0.,  0.,  0.,  0.,  0.,  0.,  0.,  0.],\n",
       "       [ 0.,  0.,  0.,  0.,  0.,  0.,  0.,  0.,  0.]])"
      ]
     },
     "execution_count": 12,
     "metadata": {},
     "output_type": "execute_result"
    }
   ],
   "source": [
    "min_lengths = np.zeros((mat_size,mat_size))\n",
    "min_lengths"
   ]
  },
  {
   "cell_type": "code",
   "execution_count": 13,
   "metadata": {
    "collapsed": true
   },
   "outputs": [],
   "source": [
    "for i in range(mat_size):\n",
    "    for j in range(mat_size):\n",
    "        for x in range(pow_size-1):\n",
    "            X = A_powers[x].copy()\n",
    "            if X[i,j] > 0 and i != j:\n",
    "                sigma[i,j] = X[i,j]\n",
    "                min_lengths[i,j] = x + 1\n",
    "                break"
   ]
  },
  {
   "cell_type": "markdown",
   "metadata": {},
   "source": [
    "Now compute the other terms, which depend on one node at a time. So, let's __repeat the above calculation with node j isolated from the rest of the graph, then subtract.__"
   ]
  },
  {
   "cell_type": "code",
   "execution_count": 14,
   "metadata": {
    "collapsed": true
   },
   "outputs": [],
   "source": [
    "def sigma_through_jay(j):\n",
    "    # Number of shortest paths through node j\n",
    "    B = A.copy()\n",
    "    B[j] = np.zeros(mat_size)\n",
    "    B[:,j] = np.zeros(mat_size)\n",
    "    B_powers = [np.linalg.matrix_power(B,m) for m in [1,2,3,4,5]] ##[1,2,3,4,5]]\n",
    "    B_sigma = np.zeros((mat_size,mat_size))\n",
    "    B_min_lengths = np.zeros((mat_size,mat_size))\n",
    "    for i in range(mat_size):\n",
    "        for k in range(mat_size):\n",
    "            if i != k:\n",
    "                X = B_powers[int(min_lengths[i,k]-1)]\n",
    "                B_sigma[i,k] = X[i,k]\n",
    "    return (sigma - B_sigma)"
   ]
  },
  {
   "cell_type": "markdown",
   "metadata": {},
   "source": [
    "Define a function that takes a node number and returns its betweenness centrality value!"
   ]
  },
  {
   "cell_type": "code",
   "execution_count": 15,
   "metadata": {
    "collapsed": true
   },
   "outputs": [],
   "source": [
    "def betweenness_centrality(j):\n",
    "    # Finally, the betweenness\n",
    "    sigst = sigma_through_jay(j)\n",
    "    total = 0\n",
    "    for i in range(mat_size):\n",
    "        for k in range(i):\n",
    "            if i != j and k != j:\n",
    "                total += sigst[i,k] / sigma[i,k]\n",
    "    # We return a single number.\n",
    "    return total"
   ]
  },
  {
   "cell_type": "code",
   "execution_count": 16,
   "metadata": {},
   "outputs": [
    {
     "name": "stdout",
     "output_type": "stream",
     "text": [
      "Betweenness Centralities of the Graph: \n",
      " [3.0, 0.0, 3.0, 15.0, 6.0, 6.0, 7.0, 0.0, 0.0]\n"
     ]
    }
   ],
   "source": [
    "betweennessCentralityValues = [betweenness_centrality(x) for x in range(mat_size)]\n",
    "print(\"Betweenness Centralities of the Graph: \\n\", betweennessCentralityValues)"
   ]
  },
  {
   "cell_type": "markdown",
   "metadata": {},
   "source": [
    "--------------------------------------------------------------------------------------------------------------------------------"
   ]
  },
  {
   "cell_type": "markdown",
   "metadata": {},
   "source": [
    "### Closeness Centrality:"
   ]
  },
  {
   "cell_type": "code",
   "execution_count": 17,
   "metadata": {
    "collapsed": true
   },
   "outputs": [],
   "source": [
    "def closenessCentrality(b):\n",
    "    closeSum = sum_of_row(step_mat, b)\n",
    "    \n",
    "    # dividing the (n-1) nodes with the sum of the closeness_values \n",
    "    result = ((mat_size-1)/closeSum)\n",
    "    \n",
    "    # We return a single number.\n",
    "    return result"
   ]
  },
  {
   "cell_type": "code",
   "execution_count": 18,
   "metadata": {},
   "outputs": [
    {
     "name": "stdout",
     "output_type": "stream",
     "text": [
      "Closeness Centralities of the Graph: \n",
      " [0.47058823529411764, 0.34782608695652173, 0.47058823529411764, 0.61538461538461542, 0.61538461538461542, 0.61538461538461542, 0.5, 0.47058823529411764, 0.34782608695652173]\n"
     ]
    }
   ],
   "source": [
    "closenessCentralityValues = [closenessCentrality(b) for b in range(mat_size)]\n",
    "print(\"Closeness Centralities of the Graph: \\n\", closenessCentralityValues)"
   ]
  },
  {
   "cell_type": "markdown",
   "metadata": {},
   "source": [
    "--------------------------------------------------------------------------------------------------------------------------------"
   ]
  },
  {
   "cell_type": "markdown",
   "metadata": {},
   "source": [
    "### Eigenvector Centrality:"
   ]
  },
  {
   "cell_type": "markdown",
   "metadata": {},
   "source": [
    "Computing Eigen Values and Eigen Vector of the Graph"
   ]
  },
  {
   "cell_type": "code",
   "execution_count": 19,
   "metadata": {
    "collapsed": true
   },
   "outputs": [],
   "source": [
    "# Calculating Eigens of the graph\n",
    "w,v = np.linalg.eig(temp)"
   ]
  },
  {
   "cell_type": "code",
   "execution_count": 20,
   "metadata": {
    "collapsed": true
   },
   "outputs": [],
   "source": [
    "# The eigenvalues of the graph\n",
    "#print(\"Eigen Values of the Graph: \\n\",w)\n",
    "\n",
    "# The eigenvectors of the graph\n",
    "#print(\"Eigen Values of the Graph: \\n\",v)"
   ]
  },
  {
   "cell_type": "markdown",
   "metadata": {},
   "source": [
    "Getting the maximum absolute Eigen Value and it's respective Eigen Vector"
   ]
  },
  {
   "cell_type": "code",
   "execution_count": 21,
   "metadata": {},
   "outputs": [
    {
     "name": "stdout",
     "output_type": "stream",
     "text": [
      "Eigen Vector Centralities of the Graph: \n",
      " [0.19574879570918419, 0.1116837032398663, 0.19574879570918396, 0.37874802533567853, 0.46808547631042252, 0.46808547631042252, 0.40997938953295338, 0.3840203838411051, 0.11695606174529273]\n"
     ]
    }
   ],
   "source": [
    "# Index of the Maximum Absolute Eigen Value of the graph\n",
    "index = (np.abs(max(w, key=abs))).argmax()\n",
    "\n",
    "# Respective Eigen Vector of the maximum Eigen Value\n",
    "eigenCentralityValues = [v[ecv,index] for ecv in range(mat_size)]\n",
    "\n",
    "print(\"Eigen Vector Centralities of the Graph: \\n\", eigenCentralityValues)"
   ]
  },
  {
   "cell_type": "markdown",
   "metadata": {},
   "source": [
    "--------------------------------------------------------------------------------------------------------------------------------"
   ]
  },
  {
   "cell_type": "markdown",
   "metadata": {},
   "source": [
    "### Comparing the Computed values with the Networkx solutions: "
   ]
  },
  {
   "cell_type": "code",
   "execution_count": 22,
   "metadata": {
    "collapsed": true
   },
   "outputs": [],
   "source": [
    "# Converting the graph to a NetworkX Graph:\n",
    "H = nx.from_numpy_matrix(A)"
   ]
  },
  {
   "cell_type": "code",
   "execution_count": 23,
   "metadata": {},
   "outputs": [
    {
     "name": "stdout",
     "output_type": "stream",
     "text": [
      "------------------------------------------------------------------------------------------------------------------------\n",
      "Calculated Degree Centralities: \n",
      " [0.375, 0.25, 0.375, 0.5, 0.5, 0.5, 0.5, 0.375, 0.125]\n",
      "\n",
      "NetworkX Degree Centralities: \n",
      " {0: 0.375, 1: 0.25, 2: 0.375, 3: 0.5, 4: 0.5, 5: 0.5, 6: 0.5, 7: 0.375, 8: 0.125}\n",
      "------------------------------------------------------------------------------------------------------------------------\n",
      "Calculated Betweenness Centralities: \n",
      " [3.0, 0.0, 3.0, 15.0, 6.0, 6.0, 7.0, 0.0, 0.0]\n",
      "\n",
      "NetworkX Betweenness Centralities: \n",
      " dict_values([3.0, 0.0, 3.0, 15.0, 6.0, 6.0, 7.0, 0.0, 0.0])\n",
      "------------------------------------------------------------------------------------------------------------------------\n",
      "Calculated Closeness Centralities: \n",
      " [0.47058823529411764, 0.34782608695652173, 0.47058823529411764, 0.61538461538461542, 0.61538461538461542, 0.61538461538461542, 0.5, 0.47058823529411764, 0.34782608695652173]\n",
      "\n",
      "NetworkX Closeness Centralities: \n",
      " {0: 0.47058823529411764, 1: 0.34782608695652173, 2: 0.47058823529411764, 3: 0.6153846153846154, 4: 0.6153846153846154, 5: 0.6153846153846154, 6: 0.5, 7: 0.47058823529411764, 8: 0.34782608695652173}\n",
      "------------------------------------------------------------------------------------------------------------------------\n",
      "Calculated Eigen Vector Centralities: \n",
      " [0.19574879570918419, 0.1116837032398663, 0.19574879570918396, 0.37874802533567853, 0.46808547631042252, 0.46808547631042252, 0.40997938953295338, 0.3840203838411051, 0.11695606174529273]\n",
      "\n",
      "NetworkX Eigen Vector Centralities: \n",
      " {0: 0.1957540414970864, 1: 0.1116880543296416, 2: 0.19575404149708636, 3: 0.378751077373384, 4: 0.4680839101306905, 5: 0.4680839101306905, 6: 0.4099765880693859, 7: 0.3840179229632457, 8: 0.11695489991950335}\n",
      "------------------------------------------------------------------------------------------------------------------------\n"
     ]
    }
   ],
   "source": [
    "print(\"------------------------------------------------------------------------------------------------------------------------\")\n",
    "degreeCentralityValues = [degreeCentrality(a) for a in range(mat_size)]\n",
    "print(\"Calculated Degree Centralities: \\n\", degreeCentralityValues)\n",
    "print(\"\\nNetworkX Degree Centralities: \\n\", nx.degree_centrality(H))\n",
    "\n",
    "print(\"------------------------------------------------------------------------------------------------------------------------\")\n",
    "betweennessCentralityValues = [betweenness_centrality(x) for x in range(mat_size)]\n",
    "print(\"Calculated Betweenness Centralities: \\n\", betweennessCentralityValues)\n",
    "print(\"\\nNetworkX Betweenness Centralities: \\n\", nx.betweenness_centrality(H, normalized=False).values())\n",
    "\n",
    "print(\"------------------------------------------------------------------------------------------------------------------------\")\n",
    "closenessCentralityValues = [closenessCentrality(b) for b in range(mat_size)]\n",
    "print(\"Calculated Closeness Centralities: \\n\", closenessCentralityValues)\n",
    "print(\"\\nNetworkX Closeness Centralities: \\n\", nx.closeness_centrality(H))\n",
    "\n",
    "print(\"------------------------------------------------------------------------------------------------------------------------\")\n",
    "eigenCentralityValues = [v[ecv,index] for ecv in range(mat_size)]\n",
    "print(\"Calculated Eigen Vector Centralities: \\n\", eigenCentralityValues)\n",
    "print(\"\\nNetworkX Eigen Vector Centralities: \\n\", nx.eigenvector_centrality(H))\n",
    "print(\"------------------------------------------------------------------------------------------------------------------------\")\n"
   ]
  },
  {
   "cell_type": "markdown",
   "metadata": {},
   "source": [
    "--------------------------------------------------------------------------------------------------------------------------------"
   ]
  },
  {
   "cell_type": "markdown",
   "metadata": {},
   "source": [
    "### • Create a function that takes as input an adjacency matrix and plots in the notebook a\n",
    "### depiction of the associated graph with eigenvector centrality represented by node size. Nodes\n",
    "### should be represented as circles. In other words, learn how to produce diagrams like given in the notebook\n",
    "#### Solution:"
   ]
  },
  {
   "cell_type": "code",
   "execution_count": 24,
   "metadata": {
    "collapsed": true
   },
   "outputs": [],
   "source": [
    "def plot_Eigen_Graph(adj_matrix): \n",
    "    # Create number for each group to allow use of colormap\n",
    "    from itertools import count\n",
    "    \n",
    "    # Converting the graph to a NetworkX Graph:\n",
    "    temp = nx.from_numpy_matrix(adj_matrix)\n",
    "\n",
    "    #Calculating Eigenvector Centrality Values:\n",
    "    eigenValues = nx.eigenvector_centrality(H)\n",
    "\n",
    "    graphH = eigenValues\n",
    "\n",
    "    # Rounding the values\n",
    "    for key, value in graphH.items():\n",
    "        graphH[key] = round(value,4)\n",
    "    \n",
    "    # Creating the legend\n",
    "    labelList = []\n",
    "    for lbl in range(len(graphH)):\n",
    "        lblName = str(lbl+1) + ': ' + str(graphH.get(lbl,\"none\"))\n",
    "        labelList.append(lblName)\n",
    "    print(\"Legend with Eigen Vector Centralities: \\n\", labelList)\n",
    "    \n",
    "    # Increase the node spacing\n",
    "    pos = nx.spring_layout(graphH)\n",
    "    \n",
    "    # Grouping the nodes according to the Centrality values for reflecting in color\n",
    "    groups = set(graphH.values())\n",
    "    mapping = dict(zip(sorted(groups),count()))\n",
    "    colors = [mapping[graphH.get(n,\"none\")] for n in graphH.keys()]\n",
    "\n",
    "    # Specify the Plot parameters\n",
    "    nx.draw_networkx(H, pos, nodelist=graphH.keys(), node_color= colors, with_labels=True, \n",
    "                     node_size=[(v) * 3000 for v in graphH.values()])\n",
    "    \n",
    "    plt.axis('off')\n",
    "    plt.show()"
   ]
  },
  {
   "cell_type": "code",
   "execution_count": 25,
   "metadata": {
    "scrolled": true
   },
   "outputs": [
    {
     "name": "stdout",
     "output_type": "stream",
     "text": [
      "Legend with Eigen Vector Centralities: \n",
      " ['1: 0.1958', '2: 0.1117', '3: 0.1958', '4: 0.3788', '5: 0.4681', '6: 0.4681', '7: 0.41', '8: 0.384', '9: 0.117']\n"
     ]
    },
    {
     "data": {
      "image/png": "[encoded data removed]",
      "text/plain": [
       "<matplotlib.figure.Figure at 0x25e9cf22cc0>"
      ]
     },
     "metadata": {},
     "output_type": "display_data"
    }
   ],
   "source": [
    "plot_Eigen_Graph(A)"
   ]
  }
 ],
 "metadata": {
  "kernelspec": {
   "display_name": "Python 3",
   "language": "python",
   "name": "python3"
  },
  "language_info": {
   "codemirror_mode": {
    "name": "ipython",
    "version": 3
   },
   "file_extension": ".py",
   "mimetype": "text/x-python",
   "name": "python",
   "nbconvert_exporter": "python",
   "pygments_lexer": "ipython3",
   "version": "3.6.4"
  }
 },
 "nbformat": 4,
 "nbformat_minor": 2
}
